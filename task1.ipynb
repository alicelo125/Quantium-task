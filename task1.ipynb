{
 "cells": [
  {
   "cell_type": "code",
   "execution_count": 1,
   "metadata": {},
   "outputs": [],
   "source": [
    "import pandas as pd\n",
    "import numpy as np\n",
    "import sklearn \n",
    "import seaborn as sns\n",
    "import re\n",
    "import matplotlib.pyplot as plt\n",
    "import datetime"
   ]
  },
  {
   "cell_type": "markdown",
   "metadata": {},
   "source": [
    "# Task1\n",
    "## Background\n",
    "You are part of Quantium’s retail analytics team and have been approached by your client, the Category Manager for Chips, who wants to better understand the types of customers who purchase Chips and their purchasing behaviour within the region\n",
    "\n",
    "The insights from your analysis will feed into the supermarket’s strategic plan for the chip category in the next half year"
   ]
  },
  {
   "cell_type": "markdown",
   "metadata": {},
   "source": []
  },
  {
   "cell_type": "code",
   "execution_count": 2,
   "metadata": {},
   "outputs": [],
   "source": [
    "purchase = pd.read_csv('QVI_purchase_behaviour.csv')\n",
    "transdata = pd.read_csv('QVI_transaction_data.csv')"
   ]
  },
  {
   "cell_type": "code",
   "execution_count": 3,
   "metadata": {},
   "outputs": [
    {
     "name": "stdout",
     "output_type": "stream",
     "text": [
      "   LYLTY_CARD_NBR               LIFESTAGE PREMIUM_CUSTOMER\n",
      "0            1000   YOUNG SINGLES/COUPLES          Premium\n",
      "1            1002   YOUNG SINGLES/COUPLES       Mainstream\n",
      "2            1003          YOUNG FAMILIES           Budget\n",
      "3            1004   OLDER SINGLES/COUPLES       Mainstream\n",
      "4            1005  MIDAGE SINGLES/COUPLES       Mainstream        LYLTY_CARD_NBR\n",
      "count    7.263700e+04\n",
      "mean     1.361859e+05\n",
      "std      8.989293e+04\n",
      "min      1.000000e+03\n",
      "25%      6.620200e+04\n",
      "50%      1.340400e+05\n",
      "75%      2.033750e+05\n",
      "max      2.373711e+06 LYLTY_CARD_NBR      0\n",
      "LIFESTAGE           0\n",
      "PREMIUM_CUSTOMER    0\n",
      "dtype: int64\n"
     ]
    }
   ],
   "source": [
    "print(purchase.head(),purchase.describe(),purchase.isnull().sum())"
   ]
  },
  {
   "cell_type": "code",
   "execution_count": 4,
   "metadata": {},
   "outputs": [
    {
     "data": {
      "text/html": [
       "<div>\n",
       "<style scoped>\n",
       "    .dataframe tbody tr th:only-of-type {\n",
       "        vertical-align: middle;\n",
       "    }\n",
       "\n",
       "    .dataframe tbody tr th {\n",
       "        vertical-align: top;\n",
       "    }\n",
       "\n",
       "    .dataframe thead th {\n",
       "        text-align: right;\n",
       "    }\n",
       "</style>\n",
       "<table border=\"1\" class=\"dataframe\">\n",
       "  <thead>\n",
       "    <tr style=\"text-align: right;\">\n",
       "      <th></th>\n",
       "      <th>DATE</th>\n",
       "      <th>STORE_NBR</th>\n",
       "      <th>LYLTY_CARD_NBR</th>\n",
       "      <th>TXN_ID</th>\n",
       "      <th>PROD_NBR</th>\n",
       "      <th>PROD_NAME</th>\n",
       "      <th>PROD_QTY</th>\n",
       "      <th>TOT_SALES</th>\n",
       "    </tr>\n",
       "  </thead>\n",
       "  <tbody>\n",
       "    <tr>\n",
       "      <th>0</th>\n",
       "      <td>43390</td>\n",
       "      <td>1</td>\n",
       "      <td>1000</td>\n",
       "      <td>1</td>\n",
       "      <td>5</td>\n",
       "      <td>Natural Chip        Compny SeaSalt175g</td>\n",
       "      <td>2</td>\n",
       "      <td>6.0</td>\n",
       "    </tr>\n",
       "    <tr>\n",
       "      <th>1</th>\n",
       "      <td>43359</td>\n",
       "      <td>1</td>\n",
       "      <td>1002</td>\n",
       "      <td>2</td>\n",
       "      <td>58</td>\n",
       "      <td>Red Rock Deli Chikn&amp;Garlic Aioli 150g</td>\n",
       "      <td>1</td>\n",
       "      <td>2.7</td>\n",
       "    </tr>\n",
       "    <tr>\n",
       "      <th>2</th>\n",
       "      <td>43531</td>\n",
       "      <td>1</td>\n",
       "      <td>1003</td>\n",
       "      <td>3</td>\n",
       "      <td>52</td>\n",
       "      <td>Grain Waves Sour    Cream&amp;Chives 210G</td>\n",
       "      <td>1</td>\n",
       "      <td>3.6</td>\n",
       "    </tr>\n",
       "    <tr>\n",
       "      <th>3</th>\n",
       "      <td>43532</td>\n",
       "      <td>1</td>\n",
       "      <td>1003</td>\n",
       "      <td>4</td>\n",
       "      <td>106</td>\n",
       "      <td>Natural ChipCo      Hony Soy Chckn175g</td>\n",
       "      <td>1</td>\n",
       "      <td>3.0</td>\n",
       "    </tr>\n",
       "    <tr>\n",
       "      <th>4</th>\n",
       "      <td>43406</td>\n",
       "      <td>1</td>\n",
       "      <td>1004</td>\n",
       "      <td>5</td>\n",
       "      <td>96</td>\n",
       "      <td>WW Original Stacked Chips 160g</td>\n",
       "      <td>1</td>\n",
       "      <td>1.9</td>\n",
       "    </tr>\n",
       "  </tbody>\n",
       "</table>\n",
       "</div>"
      ],
      "text/plain": [
       "    DATE  STORE_NBR  LYLTY_CARD_NBR  TXN_ID  PROD_NBR  \\\n",
       "0  43390          1            1000       1         5   \n",
       "1  43359          1            1002       2        58   \n",
       "2  43531          1            1003       3        52   \n",
       "3  43532          1            1003       4       106   \n",
       "4  43406          1            1004       5        96   \n",
       "\n",
       "                                PROD_NAME  PROD_QTY  TOT_SALES  \n",
       "0  Natural Chip        Compny SeaSalt175g         2        6.0  \n",
       "1   Red Rock Deli Chikn&Garlic Aioli 150g         1        2.7  \n",
       "2   Grain Waves Sour    Cream&Chives 210G         1        3.6  \n",
       "3  Natural ChipCo      Hony Soy Chckn175g         1        3.0  \n",
       "4          WW Original Stacked Chips 160g         1        1.9  "
      ]
     },
     "execution_count": 4,
     "metadata": {},
     "output_type": "execute_result"
    }
   ],
   "source": [
    "transdata.head()"
   ]
  },
  {
   "cell_type": "code",
   "execution_count": 5,
   "metadata": {},
   "outputs": [
    {
     "name": "stdout",
     "output_type": "stream",
     "text": [
      "                DATE     STORE_NBR  LYLTY_CARD_NBR        TXN_ID  \\\n",
      "count  264836.000000  264836.00000    2.648360e+05  2.648360e+05   \n",
      "mean    43464.036260     135.08011    1.355495e+05  1.351583e+05   \n",
      "std       105.389282      76.78418    8.057998e+04  7.813303e+04   \n",
      "min     43282.000000       1.00000    1.000000e+03  1.000000e+00   \n",
      "25%     43373.000000      70.00000    7.002100e+04  6.760150e+04   \n",
      "50%     43464.000000     130.00000    1.303575e+05  1.351375e+05   \n",
      "75%     43555.000000     203.00000    2.030942e+05  2.027012e+05   \n",
      "max     43646.000000     272.00000    2.373711e+06  2.415841e+06   \n",
      "\n",
      "            PROD_NBR       PROD_QTY      TOT_SALES  \n",
      "count  264836.000000  264836.000000  264836.000000  \n",
      "mean       56.583157       1.907309       7.304200  \n",
      "std        32.826638       0.643654       3.083226  \n",
      "min         1.000000       1.000000       1.500000  \n",
      "25%        28.000000       2.000000       5.400000  \n",
      "50%        56.000000       2.000000       7.400000  \n",
      "75%        85.000000       2.000000       9.200000  \n",
      "max       114.000000     200.000000     650.000000   DATE              0\n",
      "STORE_NBR         0\n",
      "LYLTY_CARD_NBR    0\n",
      "TXN_ID            0\n",
      "PROD_NBR          0\n",
      "PROD_NAME         0\n",
      "PROD_QTY          0\n",
      "TOT_SALES         0\n",
      "dtype: int64\n"
     ]
    }
   ],
   "source": [
    "print(transdata.describe(),transdata.isnull().sum())"
   ]
  },
  {
   "cell_type": "code",
   "execution_count": 6,
   "metadata": {},
   "outputs": [],
   "source": [
    "# convert DATE to date time \n",
    "po = transdata['DATE']\n",
    "po = pd.Series.to_list(po)\n",
    "po = pd.to_datetime(po,unit='D',origin=pd.Timestamp('1899-12-30'),)\n",
    "po = po.to_frame(index=False, name='DATE')"
   ]
  },
  {
   "cell_type": "code",
   "execution_count": 7,
   "metadata": {},
   "outputs": [
    {
     "data": {
      "text/html": [
       "<div>\n",
       "<style scoped>\n",
       "    .dataframe tbody tr th:only-of-type {\n",
       "        vertical-align: middle;\n",
       "    }\n",
       "\n",
       "    .dataframe tbody tr th {\n",
       "        vertical-align: top;\n",
       "    }\n",
       "\n",
       "    .dataframe thead th {\n",
       "        text-align: right;\n",
       "    }\n",
       "</style>\n",
       "<table border=\"1\" class=\"dataframe\">\n",
       "  <thead>\n",
       "    <tr style=\"text-align: right;\">\n",
       "      <th></th>\n",
       "      <th>STORE_NBR</th>\n",
       "      <th>LYLTY_CARD_NBR</th>\n",
       "      <th>TXN_ID</th>\n",
       "      <th>PROD_NBR</th>\n",
       "      <th>PROD_NAME</th>\n",
       "      <th>PROD_QTY</th>\n",
       "      <th>TOT_SALES</th>\n",
       "      <th>DATE</th>\n",
       "    </tr>\n",
       "  </thead>\n",
       "  <tbody>\n",
       "    <tr>\n",
       "      <th>0</th>\n",
       "      <td>1</td>\n",
       "      <td>1000</td>\n",
       "      <td>1</td>\n",
       "      <td>5</td>\n",
       "      <td>Natural Chip        Compny SeaSalt175g</td>\n",
       "      <td>2</td>\n",
       "      <td>6.0</td>\n",
       "      <td>2018-10-17</td>\n",
       "    </tr>\n",
       "    <tr>\n",
       "      <th>1</th>\n",
       "      <td>1</td>\n",
       "      <td>1002</td>\n",
       "      <td>2</td>\n",
       "      <td>58</td>\n",
       "      <td>Red Rock Deli Chikn&amp;Garlic Aioli 150g</td>\n",
       "      <td>1</td>\n",
       "      <td>2.7</td>\n",
       "      <td>2018-09-16</td>\n",
       "    </tr>\n",
       "    <tr>\n",
       "      <th>2</th>\n",
       "      <td>1</td>\n",
       "      <td>1003</td>\n",
       "      <td>3</td>\n",
       "      <td>52</td>\n",
       "      <td>Grain Waves Sour    Cream&amp;Chives 210G</td>\n",
       "      <td>1</td>\n",
       "      <td>3.6</td>\n",
       "      <td>2019-03-07</td>\n",
       "    </tr>\n",
       "    <tr>\n",
       "      <th>3</th>\n",
       "      <td>1</td>\n",
       "      <td>1003</td>\n",
       "      <td>4</td>\n",
       "      <td>106</td>\n",
       "      <td>Natural ChipCo      Hony Soy Chckn175g</td>\n",
       "      <td>1</td>\n",
       "      <td>3.0</td>\n",
       "      <td>2019-03-08</td>\n",
       "    </tr>\n",
       "    <tr>\n",
       "      <th>4</th>\n",
       "      <td>1</td>\n",
       "      <td>1004</td>\n",
       "      <td>5</td>\n",
       "      <td>96</td>\n",
       "      <td>WW Original Stacked Chips 160g</td>\n",
       "      <td>1</td>\n",
       "      <td>1.9</td>\n",
       "      <td>2018-11-02</td>\n",
       "    </tr>\n",
       "  </tbody>\n",
       "</table>\n",
       "</div>"
      ],
      "text/plain": [
       "   STORE_NBR  LYLTY_CARD_NBR  TXN_ID  PROD_NBR  \\\n",
       "0          1            1000       1         5   \n",
       "1          1            1002       2        58   \n",
       "2          1            1003       3        52   \n",
       "3          1            1003       4       106   \n",
       "4          1            1004       5        96   \n",
       "\n",
       "                                PROD_NAME  PROD_QTY  TOT_SALES       DATE  \n",
       "0  Natural Chip        Compny SeaSalt175g         2        6.0 2018-10-17  \n",
       "1   Red Rock Deli Chikn&Garlic Aioli 150g         1        2.7 2018-09-16  \n",
       "2   Grain Waves Sour    Cream&Chives 210G         1        3.6 2019-03-07  \n",
       "3  Natural ChipCo      Hony Soy Chckn175g         1        3.0 2019-03-08  \n",
       "4          WW Original Stacked Chips 160g         1        1.9 2018-11-02  "
      ]
     },
     "execution_count": 7,
     "metadata": {},
     "output_type": "execute_result"
    }
   ],
   "source": [
    "transdata= transdata.drop(['DATE'],axis=1)\n",
    "transdata = transdata.join(po)\n",
    "transdata.head()"
   ]
  },
  {
   "cell_type": "code",
   "execution_count": 8,
   "metadata": {},
   "outputs": [
    {
     "data": {
      "text/plain": [
       "Kettle Mozzarella   Basil & Pesto 175g      3304\n",
       "Kettle Tortilla ChpsHny&Jlpno Chili 150g    3296\n",
       "Cobs Popd Swt/Chlli &Sr/Cream Chips 110g    3269\n",
       "Tyrrells Crisps     Ched & Chives 165g      3268\n",
       "Cobs Popd Sea Salt  Chips 110g              3265\n",
       "                                            ... \n",
       "RRD Pc Sea Salt     165g                    1431\n",
       "Woolworths Medium   Salsa 300g              1430\n",
       "NCC Sour Cream &    Garden Chives 175g      1419\n",
       "French Fries Potato Chips 175g              1418\n",
       "WW Crinkle Cut      Original 175g           1410\n",
       "Name: PROD_NAME, Length: 114, dtype: int64"
      ]
     },
     "execution_count": 8,
     "metadata": {},
     "output_type": "execute_result"
    }
   ],
   "source": [
    "prodname = transdata['PROD_NAME']\n",
    "prodname.value_counts()\n",
    "# there are total 114 products and need to find out chips products "
   ]
  },
  {
   "cell_type": "code",
   "execution_count": 9,
   "metadata": {},
   "outputs": [
    {
     "name": "stdout",
     "output_type": "stream",
     "text": [
      "Old El Paso Salsa   Dip Chnky Tom Ht300g    3125\n",
      "Old El Paso Salsa   Dip Tomato Med 300g     3114\n",
      "Old El Paso Salsa   Dip Tomato Mild 300g    3085\n",
      "Woolworths Mild     Salsa 300g              1491\n",
      "Doritos Salsa Mild  300g                    1472\n",
      "Smiths Crinkle Cut  Tomato Salsa 150g       1470\n",
      "Red Rock Deli SR    Salsa & Mzzrlla 150g    1458\n",
      "Doritos Salsa       Medium 300g             1449\n",
      "Woolworths Medium   Salsa 300g              1430\n",
      "Name: PROD_NAME, dtype: int64\n"
     ]
    }
   ],
   "source": [
    "chips_prod = transdata[transdata['PROD_NAME'].str.contains('Salsa')]\n",
    "print(chips_prod['PROD_NAME'].value_counts())\n",
    "#find out those products are not chips"
   ]
  },
  {
   "cell_type": "code",
   "execution_count": 10,
   "metadata": {},
   "outputs": [
    {
     "name": "stdout",
     "output_type": "stream",
     "text": [
      "<class 'pandas.core.frame.DataFrame'>\n",
      "Int64Index: 246742 entries, 0 to 264835\n",
      "Data columns (total 8 columns):\n",
      " #   Column          Non-Null Count   Dtype         \n",
      "---  ------          --------------   -----         \n",
      " 0   STORE_NBR       246742 non-null  int64         \n",
      " 1   LYLTY_CARD_NBR  246742 non-null  int64         \n",
      " 2   TXN_ID          246742 non-null  int64         \n",
      " 3   PROD_NBR        246742 non-null  int64         \n",
      " 4   PROD_NAME       246742 non-null  object        \n",
      " 5   PROD_QTY        246742 non-null  int64         \n",
      " 6   TOT_SALES       246742 non-null  float64       \n",
      " 7   DATE            246742 non-null  datetime64[ns]\n",
      "dtypes: datetime64[ns](1), float64(1), int64(5), object(1)\n",
      "memory usage: 16.9+ MB\n"
     ]
    }
   ],
   "source": [
    "chips = transdata[~transdata.PROD_NAME.str.contains('Salsa')]\n",
    "chips.info()\n",
    "# remove all salsa products"
   ]
  },
  {
   "cell_type": "code",
   "execution_count": 11,
   "metadata": {},
   "outputs": [
    {
     "name": "stdout",
     "output_type": "stream",
     "text": [
      "2      220070\n",
      "1       25476\n",
      "5         415\n",
      "3         408\n",
      "4         371\n",
      "200         2\n",
      "Name: PROD_QTY, dtype: int64\n"
     ]
    }
   ],
   "source": [
    "print(chips['PROD_QTY'].value_counts())\n",
    "# there are two outlier (200) \n",
    "chips = chips[chips.PROD_QTY !=200] # remove outlier\n",
    "chips = chips.astype(str)"
   ]
  },
  {
   "cell_type": "code",
   "execution_count": 12,
   "metadata": {},
   "outputs": [
    {
     "name": "stdout",
     "output_type": "stream",
     "text": [
      "Kettle        41288\n",
      "Smiths        27390\n",
      "Pringles      25102\n",
      "Doritos       22041\n",
      "Thins         14075\n",
      "RRD           11894\n",
      "Infuzions     11057\n",
      "WW            10320\n",
      "Cobs           9693\n",
      "Tostitos       9471\n",
      "Twisties       9454\n",
      "Tyrrells       6442\n",
      "Grain          6272\n",
      "Natural        6050\n",
      "Cheezels       4603\n",
      "CCs            4551\n",
      "Red            4427\n",
      "Dorito         3183\n",
      "Infzns         3144\n",
      "Smith          2963\n",
      "Cheetos        2927\n",
      "Snbts          1576\n",
      "Burger         1564\n",
      "Woolworths     1516\n",
      "GrnWves        1468\n",
      "Sunbites       1432\n",
      "NCC            1419\n",
      "French         1418\n",
      "Name: PROD_NAME, dtype: int64\n",
      "0    Natural\n",
      "1        Red\n",
      "2      Grain\n",
      "3    Natural\n",
      "4         WW\n",
      "Name: PROD_NAME, dtype: object\n"
     ]
    }
   ],
   "source": [
    "brand = chips['PROD_NAME'].str.extract('([a-zA-Z]+)', expand=False).str.strip()\n",
    "print(brand.value_counts()) # list of product brands\n",
    "chips['PROD_BRAND'] = chips['PROD_NAME'].str.extract('([a-zA-Z]+)', expand=False).str.strip()\n",
    "print(brand.head())"
   ]
  },
  {
   "cell_type": "code",
   "execution_count": 13,
   "metadata": {},
   "outputs": [
    {
     "data": {
      "text/plain": [
       "0         175\n",
       "1         150\n",
       "2         210\n",
       "3         175\n",
       "4         160\n",
       "         ... \n",
       "264830    380\n",
       "264831    210\n",
       "264832    150\n",
       "264833    165\n",
       "264835    330\n",
       "Name: PROD_WEIGHT, Length: 246740, dtype: object"
      ]
     },
     "execution_count": 13,
     "metadata": {},
     "output_type": "execute_result"
    }
   ],
   "source": [
    "chips['PROD_WEIGHT']=chips.PROD_NAME.str.findall('(\\d+)').apply(''.join)\n",
    "# extract product weight \n",
    "chips['PROD_WEIGHT']"
   ]
  },
  {
   "cell_type": "code",
   "execution_count": 14,
   "metadata": {},
   "outputs": [
    {
     "data": {
      "text/html": [
       "<div>\n",
       "<style scoped>\n",
       "    .dataframe tbody tr th:only-of-type {\n",
       "        vertical-align: middle;\n",
       "    }\n",
       "\n",
       "    .dataframe tbody tr th {\n",
       "        vertical-align: top;\n",
       "    }\n",
       "\n",
       "    .dataframe thead th {\n",
       "        text-align: right;\n",
       "    }\n",
       "</style>\n",
       "<table border=\"1\" class=\"dataframe\">\n",
       "  <thead>\n",
       "    <tr style=\"text-align: right;\">\n",
       "      <th></th>\n",
       "      <th>STORE_NBR</th>\n",
       "      <th>LYLTY_CARD_NBR</th>\n",
       "      <th>TXN_ID</th>\n",
       "      <th>PROD_NBR</th>\n",
       "      <th>PROD_NAME</th>\n",
       "      <th>PROD_QTY</th>\n",
       "      <th>TOT_SALES</th>\n",
       "      <th>DATE</th>\n",
       "      <th>PROD_BRAND</th>\n",
       "      <th>PROD_WEIGHT</th>\n",
       "    </tr>\n",
       "  </thead>\n",
       "  <tbody>\n",
       "    <tr>\n",
       "      <th>0</th>\n",
       "      <td>1</td>\n",
       "      <td>1000</td>\n",
       "      <td>1</td>\n",
       "      <td>5</td>\n",
       "      <td>Natural Chip        Compny SeaSalt175g</td>\n",
       "      <td>2</td>\n",
       "      <td>6.0</td>\n",
       "      <td>2018-10-17</td>\n",
       "      <td>Natural</td>\n",
       "      <td>175</td>\n",
       "    </tr>\n",
       "    <tr>\n",
       "      <th>1</th>\n",
       "      <td>1</td>\n",
       "      <td>1002</td>\n",
       "      <td>2</td>\n",
       "      <td>58</td>\n",
       "      <td>Red Rock Deli Chikn&amp;Garlic Aioli 150g</td>\n",
       "      <td>1</td>\n",
       "      <td>2.7</td>\n",
       "      <td>2018-09-16</td>\n",
       "      <td>Red</td>\n",
       "      <td>150</td>\n",
       "    </tr>\n",
       "    <tr>\n",
       "      <th>2</th>\n",
       "      <td>1</td>\n",
       "      <td>1003</td>\n",
       "      <td>3</td>\n",
       "      <td>52</td>\n",
       "      <td>Grain Waves Sour    Cream&amp;Chives 210G</td>\n",
       "      <td>1</td>\n",
       "      <td>3.6</td>\n",
       "      <td>2019-03-07</td>\n",
       "      <td>Grain</td>\n",
       "      <td>210</td>\n",
       "    </tr>\n",
       "    <tr>\n",
       "      <th>3</th>\n",
       "      <td>1</td>\n",
       "      <td>1003</td>\n",
       "      <td>4</td>\n",
       "      <td>106</td>\n",
       "      <td>Natural ChipCo      Hony Soy Chckn175g</td>\n",
       "      <td>1</td>\n",
       "      <td>3.0</td>\n",
       "      <td>2019-03-08</td>\n",
       "      <td>Natural</td>\n",
       "      <td>175</td>\n",
       "    </tr>\n",
       "    <tr>\n",
       "      <th>4</th>\n",
       "      <td>1</td>\n",
       "      <td>1004</td>\n",
       "      <td>5</td>\n",
       "      <td>96</td>\n",
       "      <td>WW Original Stacked Chips 160g</td>\n",
       "      <td>1</td>\n",
       "      <td>1.9</td>\n",
       "      <td>2018-11-02</td>\n",
       "      <td>WW</td>\n",
       "      <td>160</td>\n",
       "    </tr>\n",
       "  </tbody>\n",
       "</table>\n",
       "</div>"
      ],
      "text/plain": [
       "  STORE_NBR LYLTY_CARD_NBR TXN_ID PROD_NBR  \\\n",
       "0         1           1000      1        5   \n",
       "1         1           1002      2       58   \n",
       "2         1           1003      3       52   \n",
       "3         1           1003      4      106   \n",
       "4         1           1004      5       96   \n",
       "\n",
       "                                PROD_NAME PROD_QTY TOT_SALES        DATE  \\\n",
       "0  Natural Chip        Compny SeaSalt175g        2       6.0  2018-10-17   \n",
       "1   Red Rock Deli Chikn&Garlic Aioli 150g        1       2.7  2018-09-16   \n",
       "2   Grain Waves Sour    Cream&Chives 210G        1       3.6  2019-03-07   \n",
       "3  Natural ChipCo      Hony Soy Chckn175g        1       3.0  2019-03-08   \n",
       "4          WW Original Stacked Chips 160g        1       1.9  2018-11-02   \n",
       "\n",
       "  PROD_BRAND PROD_WEIGHT  \n",
       "0    Natural         175  \n",
       "1        Red         150  \n",
       "2      Grain         210  \n",
       "3    Natural         175  \n",
       "4         WW         160  "
      ]
     },
     "execution_count": 14,
     "metadata": {},
     "output_type": "execute_result"
    }
   ],
   "source": [
    "chips.head()"
   ]
  },
  {
   "cell_type": "code",
   "execution_count": 15,
   "metadata": {},
   "outputs": [],
   "source": [
    "less = purchase.drop(['LYLTY_CARD_NBR'],axis=1)\n",
    "both = less.join(chips)"
   ]
  },
  {
   "cell_type": "code",
   "execution_count": 16,
   "metadata": {},
   "outputs": [
    {
     "data": {
      "text/plain": [
       "<AxesSubplot:xlabel='LIFESTAGE', ylabel='count'>"
      ]
     },
     "execution_count": 16,
     "metadata": {},
     "output_type": "execute_result"
    },
    {
     "data": {
      "image/png": "[encoded data removed]",
      "text/plain": [
       "<Figure size 1440x360 with 1 Axes>"
      ]
     },
     "metadata": {
      "needs_background": "light"
     },
     "output_type": "display_data"
    }
   ],
   "source": [
    "plt.figure(figsize=(20,5))\n",
    "sns.countplot(x='LIFESTAGE',data=both)\n",
    "# young single/couple, older single/couple and retures are highest category on buying chips"
   ]
  },
  {
   "cell_type": "code",
   "execution_count": 17,
   "metadata": {},
   "outputs": [
    {
     "data": {
      "text/plain": [
       "<AxesSubplot:xlabel='LIFESTAGE', ylabel='count'>"
      ]
     },
     "execution_count": 17,
     "metadata": {},
     "output_type": "execute_result"
    },
    {
     "data": {
      "image/png": "[encoded data removed]",
      "text/plain": [
       "<Figure size 1440x360 with 1 Axes>"
      ]
     },
     "metadata": {
      "needs_background": "light"
     },
     "output_type": "display_data"
    }
   ],
   "source": [
    "plt.figure(figsize=(20,5))\n",
    "sns.countplot(x='LIFESTAGE',data=purchase,hue='PREMIUM_CUSTOMER')\n",
    "#Family would prefer to budget and the rest is mainstream is the main customer"
   ]
  },
  {
   "cell_type": "code",
   "execution_count": 18,
   "metadata": {},
   "outputs": [],
   "source": [
    "import plotly.graph_objects as go\n",
    "import plotly.express as px"
   ]
  },
  {
   "cell_type": "code",
   "execution_count": 19,
   "metadata": {},
   "outputs": [
    {
     "data": {
      "text/plain": [
       "<AxesSubplot:xlabel='PROD_WEIGHT', ylabel='count'>"
      ]
     },
     "execution_count": 19,
     "metadata": {},
     "output_type": "execute_result"
    },
    {
     "data": {
      "image/png": "[encoded data removed]",
      "text/plain": [
       "<Figure size 1440x360 with 1 Axes>"
      ]
     },
     "metadata": {
      "needs_background": "light"
     },
     "output_type": "display_data"
    }
   ],
   "source": [
    "plt.figure(figsize=(20,5))\n",
    "sns.countplot(x='PROD_WEIGHT',data=chips)\n",
    "#175 & 150 g package are popular "
   ]
  },
  {
   "cell_type": "code",
   "execution_count": 20,
   "metadata": {},
   "outputs": [
    {
     "data": {
      "text/plain": [
       "<AxesSubplot:xlabel='PROD_WEIGHT', ylabel='count'>"
      ]
     },
     "execution_count": 20,
     "metadata": {},
     "output_type": "execute_result"
    },
    {
     "data": {
      "image/png": "[encoded data removed]",
      "text/plain": [
       "<Figure size 1440x360 with 1 Axes>"
      ]
     },
     "metadata": {
      "needs_background": "light"
     },
     "output_type": "display_data"
    }
   ],
   "source": [
    "plt.figure(figsize=(20,5))\n",
    "sns.countplot(x='PROD_WEIGHT',data=both,hue='LIFESTAGE')"
   ]
  },
  {
   "cell_type": "code",
   "execution_count": 21,
   "metadata": {},
   "outputs": [
    {
     "data": {
      "text/plain": [
       "<AxesSubplot:xlabel='PROD_BRAND', ylabel='count'>"
      ]
     },
     "execution_count": 21,
     "metadata": {},
     "output_type": "execute_result"
    },
    {
     "data": {
      "image/png": "[encoded data removed]",
      "text/plain": [
       "<Figure size 1440x360 with 1 Axes>"
      ]
     },
     "metadata": {
      "needs_background": "light"
     },
     "output_type": "display_data"
    }
   ],
   "source": [
    "plt.figure(figsize=(20,5))\n",
    "sns.countplot(x='PROD_BRAND',data=chips)\n",
    "#Kettle is the most popular in total data"
   ]
  },
  {
   "cell_type": "code",
   "execution_count": 22,
   "metadata": {},
   "outputs": [
    {
     "data": {
      "text/plain": [
       "<AxesSubplot:xlabel='PROD_BRAND', ylabel='count'>"
      ]
     },
     "execution_count": 22,
     "metadata": {},
     "output_type": "execute_result"
    },
    {
     "data": {
      "image/png": "[encoded data removed]",
      "text/plain": [
       "<Figure size 1800x360 with 1 Axes>"
      ]
     },
     "metadata": {
      "needs_background": "light"
     },
     "output_type": "display_data"
    }
   ],
   "source": [
    "plt.figure(figsize=(25,5))\n",
    "sns.countplot(x='PROD_BRAND',data=both,hue='LIFESTAGE')"
   ]
  },
  {
   "cell_type": "markdown",
   "metadata": {},
   "source": [
    "## Conclusion\n",
    "Small packages are more popular to customers and single/couples and retires are the main customers of the chips. \n",
    "It is recommanded that the retail stores can promote small package chips to customers with sell events. \n",
    "\n",
    "The popular chips brand are Kettle, Smiths and Ptingles, which can have more on stores since it can bring more profits. "
   ]
  }
 ],
 "metadata": {
  "interpreter": {
   "hash": "d85ac16fc52f8b9861148d882ab21b8bfaec3d0d00818f31d9044d833043d6b3"
  },
  "kernelspec": {
   "display_name": "Python 3.8.8 64-bit ('Data': conda)",
   "name": "python3"
  },
  "language_info": {
   "codemirror_mode": {
    "name": "ipython",
    "version": 3
   },
   "file_extension": ".py",
   "mimetype": "text/x-python",
   "name": "python",
   "nbconvert_exporter": "python",
   "pygments_lexer": "ipython3",
   "version": "3.8.8"
  },
  "orig_nbformat": 4
 },
 "nbformat": 4,
 "nbformat_minor": 2
}
