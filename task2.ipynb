{
 "cells": [
  {
   "cell_type": "code",
   "execution_count": 1,
   "source": [
    "import pandas as pd\r\n",
    "import numpy as np\r\n",
    "import sklearn \r\n",
    "import seaborn as sns\r\n",
    "import re\r\n",
    "import matplotlib.pyplot as plt\r\n",
    "import datetime"
   ],
   "outputs": [],
   "metadata": {}
  },
  {
   "cell_type": "markdown",
   "source": [
    "# Background\r\n",
    "### You are part of Quantium’s retail analytics team and have been approached by your client, the Category Manager for Chips, has asked us to test the impact of the new trial layouts with a data driven recommendation to whether or not the trial layout should be rolled out to all their stores."
   ],
   "metadata": {}
  },
  {
   "cell_type": "markdown",
   "source": [
    "## Examining the performance in trial vs control stores "
   ],
   "metadata": {}
  },
  {
   "cell_type": "code",
   "execution_count": 2,
   "source": [
    "control = pd.read_csv('control stores.csv')\r\n",
    "trail = pd.read_csv('trail stores.csv')\r\n",
    "control.head()"
   ],
   "outputs": [
    {
     "output_type": "execute_result",
     "data": {
      "text/html": [
       "<div>\n",
       "<style scoped>\n",
       "    .dataframe tbody tr th:only-of-type {\n",
       "        vertical-align: middle;\n",
       "    }\n",
       "\n",
       "    .dataframe tbody tr th {\n",
       "        vertical-align: top;\n",
       "    }\n",
       "\n",
       "    .dataframe thead th {\n",
       "        text-align: right;\n",
       "    }\n",
       "</style>\n",
       "<table border=\"1\" class=\"dataframe\">\n",
       "  <thead>\n",
       "    <tr style=\"text-align: right;\">\n",
       "      <th></th>\n",
       "      <th>LYLTY_CARD_NBR</th>\n",
       "      <th>DATE</th>\n",
       "      <th>STORE_NBR</th>\n",
       "      <th>TXN_ID</th>\n",
       "      <th>PROD_NBR</th>\n",
       "      <th>PROD_NAME</th>\n",
       "      <th>PROD_QTY</th>\n",
       "      <th>TOT_SALES</th>\n",
       "      <th>PACK_SIZE</th>\n",
       "      <th>BRAND</th>\n",
       "      <th>LIFESTAGE</th>\n",
       "      <th>PREMIUM_CUSTOMER</th>\n",
       "    </tr>\n",
       "  </thead>\n",
       "  <tbody>\n",
       "    <tr>\n",
       "      <th>0</th>\n",
       "      <td>1000</td>\n",
       "      <td>17/10/2018</td>\n",
       "      <td>1</td>\n",
       "      <td>1</td>\n",
       "      <td>5</td>\n",
       "      <td>Natural Chip        Compny SeaSalt175g</td>\n",
       "      <td>2</td>\n",
       "      <td>6.0</td>\n",
       "      <td>175</td>\n",
       "      <td>NATURAL</td>\n",
       "      <td>YOUNG SINGLES/COUPLES</td>\n",
       "      <td>Premium</td>\n",
       "    </tr>\n",
       "    <tr>\n",
       "      <th>1</th>\n",
       "      <td>1002</td>\n",
       "      <td>16/09/2018</td>\n",
       "      <td>1</td>\n",
       "      <td>2</td>\n",
       "      <td>58</td>\n",
       "      <td>Red Rock Deli Chikn&amp;Garlic Aioli 150g</td>\n",
       "      <td>1</td>\n",
       "      <td>2.7</td>\n",
       "      <td>150</td>\n",
       "      <td>RRD</td>\n",
       "      <td>YOUNG SINGLES/COUPLES</td>\n",
       "      <td>Mainstream</td>\n",
       "    </tr>\n",
       "    <tr>\n",
       "      <th>2</th>\n",
       "      <td>1003</td>\n",
       "      <td>7/03/2019</td>\n",
       "      <td>1</td>\n",
       "      <td>3</td>\n",
       "      <td>52</td>\n",
       "      <td>Grain Waves Sour    Cream&amp;Chives 210G</td>\n",
       "      <td>1</td>\n",
       "      <td>3.6</td>\n",
       "      <td>210</td>\n",
       "      <td>GRNWVES</td>\n",
       "      <td>YOUNG FAMILIES</td>\n",
       "      <td>Budget</td>\n",
       "    </tr>\n",
       "    <tr>\n",
       "      <th>3</th>\n",
       "      <td>1003</td>\n",
       "      <td>8/03/2019</td>\n",
       "      <td>1</td>\n",
       "      <td>4</td>\n",
       "      <td>106</td>\n",
       "      <td>Natural ChipCo      Hony Soy Chckn175g</td>\n",
       "      <td>1</td>\n",
       "      <td>3.0</td>\n",
       "      <td>175</td>\n",
       "      <td>NATURAL</td>\n",
       "      <td>YOUNG FAMILIES</td>\n",
       "      <td>Budget</td>\n",
       "    </tr>\n",
       "    <tr>\n",
       "      <th>4</th>\n",
       "      <td>1004</td>\n",
       "      <td>2/11/2018</td>\n",
       "      <td>1</td>\n",
       "      <td>5</td>\n",
       "      <td>96</td>\n",
       "      <td>WW Original Stacked Chips 160g</td>\n",
       "      <td>1</td>\n",
       "      <td>1.9</td>\n",
       "      <td>160</td>\n",
       "      <td>WOOLWORTHS</td>\n",
       "      <td>OLDER SINGLES/COUPLES</td>\n",
       "      <td>Mainstream</td>\n",
       "    </tr>\n",
       "  </tbody>\n",
       "</table>\n",
       "</div>"
      ],
      "text/plain": [
       "   LYLTY_CARD_NBR        DATE  STORE_NBR  TXN_ID  PROD_NBR  \\\n",
       "0            1000  17/10/2018          1       1         5   \n",
       "1            1002  16/09/2018          1       2        58   \n",
       "2            1003   7/03/2019          1       3        52   \n",
       "3            1003   8/03/2019          1       4       106   \n",
       "4            1004   2/11/2018          1       5        96   \n",
       "\n",
       "                                PROD_NAME  PROD_QTY  TOT_SALES  PACK_SIZE  \\\n",
       "0  Natural Chip        Compny SeaSalt175g         2        6.0        175   \n",
       "1   Red Rock Deli Chikn&Garlic Aioli 150g         1        2.7        150   \n",
       "2   Grain Waves Sour    Cream&Chives 210G         1        3.6        210   \n",
       "3  Natural ChipCo      Hony Soy Chckn175g         1        3.0        175   \n",
       "4          WW Original Stacked Chips 160g         1        1.9        160   \n",
       "\n",
       "        BRAND              LIFESTAGE PREMIUM_CUSTOMER  \n",
       "0     NATURAL  YOUNG SINGLES/COUPLES          Premium  \n",
       "1         RRD  YOUNG SINGLES/COUPLES       Mainstream  \n",
       "2     GRNWVES         YOUNG FAMILIES           Budget  \n",
       "3     NATURAL         YOUNG FAMILIES           Budget  \n",
       "4  WOOLWORTHS  OLDER SINGLES/COUPLES       Mainstream  "
      ]
     },
     "metadata": {},
     "execution_count": 2
    }
   ],
   "metadata": {}
  },
  {
   "cell_type": "markdown",
   "source": [
    "# Trail stores and Control stores "
   ],
   "metadata": {}
  },
  {
   "cell_type": "code",
   "execution_count": 3,
   "source": [
    "trail.describe()"
   ],
   "outputs": [
    {
     "output_type": "execute_result",
     "data": {
      "text/html": [
       "<div>\n",
       "<style scoped>\n",
       "    .dataframe tbody tr th:only-of-type {\n",
       "        vertical-align: middle;\n",
       "    }\n",
       "\n",
       "    .dataframe tbody tr th {\n",
       "        vertical-align: top;\n",
       "    }\n",
       "\n",
       "    .dataframe thead th {\n",
       "        text-align: right;\n",
       "    }\n",
       "</style>\n",
       "<table border=\"1\" class=\"dataframe\">\n",
       "  <thead>\n",
       "    <tr style=\"text-align: right;\">\n",
       "      <th></th>\n",
       "      <th>LYLTY_CARD_NBR</th>\n",
       "      <th>STORE_NBR</th>\n",
       "      <th>TXN_ID</th>\n",
       "      <th>PROD_NBR</th>\n",
       "      <th>PROD_QTY</th>\n",
       "      <th>TOT_SALES</th>\n",
       "      <th>PACK_SIZE</th>\n",
       "    </tr>\n",
       "  </thead>\n",
       "  <tbody>\n",
       "    <tr>\n",
       "      <th>count</th>\n",
       "      <td>3.974000e+03</td>\n",
       "      <td>3974.000000</td>\n",
       "      <td>3.974000e+03</td>\n",
       "      <td>3974.000000</td>\n",
       "      <td>3974.000000</td>\n",
       "      <td>3974.000000</td>\n",
       "      <td>3974.000000</td>\n",
       "    </tr>\n",
       "    <tr>\n",
       "      <th>mean</th>\n",
       "      <td>1.040920e+05</td>\n",
       "      <td>85.667589</td>\n",
       "      <td>8.698404e+04</td>\n",
       "      <td>55.238802</td>\n",
       "      <td>1.926522</td>\n",
       "      <td>7.551233</td>\n",
       "      <td>180.395823</td>\n",
       "    </tr>\n",
       "    <tr>\n",
       "      <th>std</th>\n",
       "      <td>1.988414e+05</td>\n",
       "      <td>3.640526</td>\n",
       "      <td>4.002005e+04</td>\n",
       "      <td>32.920617</td>\n",
       "      <td>0.324572</td>\n",
       "      <td>2.438625</td>\n",
       "      <td>64.211425</td>\n",
       "    </tr>\n",
       "    <tr>\n",
       "      <th>min</th>\n",
       "      <td>7.700000e+04</td>\n",
       "      <td>77.000000</td>\n",
       "      <td>7.491000e+04</td>\n",
       "      <td>1.000000</td>\n",
       "      <td>1.000000</td>\n",
       "      <td>1.500000</td>\n",
       "      <td>70.000000</td>\n",
       "    </tr>\n",
       "    <tr>\n",
       "      <th>25%</th>\n",
       "      <td>8.607500e+04</td>\n",
       "      <td>86.000000</td>\n",
       "      <td>8.459625e+04</td>\n",
       "      <td>28.000000</td>\n",
       "      <td>2.000000</td>\n",
       "      <td>6.000000</td>\n",
       "      <td>150.000000</td>\n",
       "    </tr>\n",
       "    <tr>\n",
       "      <th>50%</th>\n",
       "      <td>8.624000e+04</td>\n",
       "      <td>86.000000</td>\n",
       "      <td>8.561550e+04</td>\n",
       "      <td>52.000000</td>\n",
       "      <td>2.000000</td>\n",
       "      <td>7.600000</td>\n",
       "      <td>170.000000</td>\n",
       "    </tr>\n",
       "    <tr>\n",
       "      <th>75%</th>\n",
       "      <td>8.819200e+04</td>\n",
       "      <td>88.000000</td>\n",
       "      <td>8.717075e+04</td>\n",
       "      <td>83.000000</td>\n",
       "      <td>2.000000</td>\n",
       "      <td>9.200000</td>\n",
       "      <td>175.000000</td>\n",
       "    </tr>\n",
       "    <tr>\n",
       "      <th>max</th>\n",
       "      <td>2.373711e+06</td>\n",
       "      <td>88.000000</td>\n",
       "      <td>2.415841e+06</td>\n",
       "      <td>114.000000</td>\n",
       "      <td>5.000000</td>\n",
       "      <td>25.500000</td>\n",
       "      <td>380.000000</td>\n",
       "    </tr>\n",
       "  </tbody>\n",
       "</table>\n",
       "</div>"
      ],
      "text/plain": [
       "       LYLTY_CARD_NBR    STORE_NBR        TXN_ID     PROD_NBR     PROD_QTY  \\\n",
       "count    3.974000e+03  3974.000000  3.974000e+03  3974.000000  3974.000000   \n",
       "mean     1.040920e+05    85.667589  8.698404e+04    55.238802     1.926522   \n",
       "std      1.988414e+05     3.640526  4.002005e+04    32.920617     0.324572   \n",
       "min      7.700000e+04    77.000000  7.491000e+04     1.000000     1.000000   \n",
       "25%      8.607500e+04    86.000000  8.459625e+04    28.000000     2.000000   \n",
       "50%      8.624000e+04    86.000000  8.561550e+04    52.000000     2.000000   \n",
       "75%      8.819200e+04    88.000000  8.717075e+04    83.000000     2.000000   \n",
       "max      2.373711e+06    88.000000  2.415841e+06   114.000000     5.000000   \n",
       "\n",
       "         TOT_SALES    PACK_SIZE  \n",
       "count  3974.000000  3974.000000  \n",
       "mean      7.551233   180.395823  \n",
       "std       2.438625    64.211425  \n",
       "min       1.500000    70.000000  \n",
       "25%       6.000000   150.000000  \n",
       "50%       7.600000   170.000000  \n",
       "75%       9.200000   175.000000  \n",
       "max      25.500000   380.000000  "
      ]
     },
     "metadata": {},
     "execution_count": 3
    }
   ],
   "metadata": {}
  },
  {
   "cell_type": "code",
   "execution_count": 4,
   "source": [
    "control.describe()"
   ],
   "outputs": [
    {
     "output_type": "execute_result",
     "data": {
      "text/html": [
       "<div>\n",
       "<style scoped>\n",
       "    .dataframe tbody tr th:only-of-type {\n",
       "        vertical-align: middle;\n",
       "    }\n",
       "\n",
       "    .dataframe tbody tr th {\n",
       "        vertical-align: top;\n",
       "    }\n",
       "\n",
       "    .dataframe thead th {\n",
       "        text-align: right;\n",
       "    }\n",
       "</style>\n",
       "<table border=\"1\" class=\"dataframe\">\n",
       "  <thead>\n",
       "    <tr style=\"text-align: right;\">\n",
       "      <th></th>\n",
       "      <th>LYLTY_CARD_NBR</th>\n",
       "      <th>STORE_NBR</th>\n",
       "      <th>TXN_ID</th>\n",
       "      <th>PROD_NBR</th>\n",
       "      <th>PROD_QTY</th>\n",
       "      <th>TOT_SALES</th>\n",
       "      <th>PACK_SIZE</th>\n",
       "    </tr>\n",
       "  </thead>\n",
       "  <tbody>\n",
       "    <tr>\n",
       "      <th>count</th>\n",
       "      <td>260860.000000</td>\n",
       "      <td>260860.000000</td>\n",
       "      <td>260860.000000</td>\n",
       "      <td>260860.000000</td>\n",
       "      <td>260860.000000</td>\n",
       "      <td>260860.000000</td>\n",
       "      <td>260860.000000</td>\n",
       "    </tr>\n",
       "    <tr>\n",
       "      <th>mean</th>\n",
       "      <td>136028.012788</td>\n",
       "      <td>135.832174</td>\n",
       "      <td>135891.510519</td>\n",
       "      <td>56.604040</td>\n",
       "      <td>1.905497</td>\n",
       "      <td>7.295509</td>\n",
       "      <td>182.456433</td>\n",
       "    </tr>\n",
       "    <tr>\n",
       "      <th>std</th>\n",
       "      <td>77295.238582</td>\n",
       "      <td>77.120990</td>\n",
       "      <td>78341.999796</td>\n",
       "      <td>32.824644</td>\n",
       "      <td>0.343706</td>\n",
       "      <td>2.528377</td>\n",
       "      <td>64.326507</td>\n",
       "    </tr>\n",
       "    <tr>\n",
       "      <th>min</th>\n",
       "      <td>1000.000000</td>\n",
       "      <td>1.000000</td>\n",
       "      <td>1.000000</td>\n",
       "      <td>1.000000</td>\n",
       "      <td>1.000000</td>\n",
       "      <td>1.500000</td>\n",
       "      <td>70.000000</td>\n",
       "    </tr>\n",
       "    <tr>\n",
       "      <th>25%</th>\n",
       "      <td>69119.000000</td>\n",
       "      <td>69.000000</td>\n",
       "      <td>66585.750000</td>\n",
       "      <td>28.000000</td>\n",
       "      <td>2.000000</td>\n",
       "      <td>5.400000</td>\n",
       "      <td>150.000000</td>\n",
       "    </tr>\n",
       "    <tr>\n",
       "      <th>50%</th>\n",
       "      <td>133167.000000</td>\n",
       "      <td>133.000000</td>\n",
       "      <td>137091.500000</td>\n",
       "      <td>56.000000</td>\n",
       "      <td>2.000000</td>\n",
       "      <td>7.400000</td>\n",
       "      <td>170.000000</td>\n",
       "    </tr>\n",
       "    <tr>\n",
       "      <th>75%</th>\n",
       "      <td>203330.000000</td>\n",
       "      <td>203.000000</td>\n",
       "      <td>203680.250000</td>\n",
       "      <td>85.000000</td>\n",
       "      <td>2.000000</td>\n",
       "      <td>9.200000</td>\n",
       "      <td>175.000000</td>\n",
       "    </tr>\n",
       "    <tr>\n",
       "      <th>max</th>\n",
       "      <td>883791.000000</td>\n",
       "      <td>272.000000</td>\n",
       "      <td>270209.000000</td>\n",
       "      <td>114.000000</td>\n",
       "      <td>5.000000</td>\n",
       "      <td>29.500000</td>\n",
       "      <td>380.000000</td>\n",
       "    </tr>\n",
       "  </tbody>\n",
       "</table>\n",
       "</div>"
      ],
      "text/plain": [
       "       LYLTY_CARD_NBR      STORE_NBR         TXN_ID       PROD_NBR  \\\n",
       "count   260860.000000  260860.000000  260860.000000  260860.000000   \n",
       "mean    136028.012788     135.832174  135891.510519      56.604040   \n",
       "std      77295.238582      77.120990   78341.999796      32.824644   \n",
       "min       1000.000000       1.000000       1.000000       1.000000   \n",
       "25%      69119.000000      69.000000   66585.750000      28.000000   \n",
       "50%     133167.000000     133.000000  137091.500000      56.000000   \n",
       "75%     203330.000000     203.000000  203680.250000      85.000000   \n",
       "max     883791.000000     272.000000  270209.000000     114.000000   \n",
       "\n",
       "            PROD_QTY      TOT_SALES      PACK_SIZE  \n",
       "count  260860.000000  260860.000000  260860.000000  \n",
       "mean        1.905497       7.295509     182.456433  \n",
       "std         0.343706       2.528377      64.326507  \n",
       "min         1.000000       1.500000      70.000000  \n",
       "25%         2.000000       5.400000     150.000000  \n",
       "50%         2.000000       7.400000     170.000000  \n",
       "75%         2.000000       9.200000     175.000000  \n",
       "max         5.000000      29.500000     380.000000  "
      ]
     },
     "metadata": {},
     "execution_count": 4
    }
   ],
   "metadata": {}
  },
  {
   "cell_type": "markdown",
   "source": [
    "### Based on the information above. The mean of trail stores are higher than control stores, so it is worthy to look at trail stores data to know what factors influence the high sales in trail stores.  "
   ],
   "metadata": {}
  },
  {
   "cell_type": "markdown",
   "source": [
    "# Trail sotres analysis"
   ],
   "metadata": {}
  },
  {
   "cell_type": "code",
   "execution_count": 5,
   "source": [
    "totalsales = trail.groupby(['STORE_NBR']).sum()\r\n",
    "totalsales"
   ],
   "outputs": [
    {
     "output_type": "execute_result",
     "data": {
      "text/html": [
       "<div>\n",
       "<style scoped>\n",
       "    .dataframe tbody tr th:only-of-type {\n",
       "        vertical-align: middle;\n",
       "    }\n",
       "\n",
       "    .dataframe tbody tr th {\n",
       "        vertical-align: top;\n",
       "    }\n",
       "\n",
       "    .dataframe thead th {\n",
       "        text-align: right;\n",
       "    }\n",
       "</style>\n",
       "<table border=\"1\" class=\"dataframe\">\n",
       "  <thead>\n",
       "    <tr style=\"text-align: right;\">\n",
       "      <th></th>\n",
       "      <th>LYLTY_CARD_NBR</th>\n",
       "      <th>TXN_ID</th>\n",
       "      <th>PROD_NBR</th>\n",
       "      <th>PROD_QTY</th>\n",
       "      <th>TOT_SALES</th>\n",
       "      <th>PACK_SIZE</th>\n",
       "    </tr>\n",
       "    <tr>\n",
       "      <th>STORE_NBR</th>\n",
       "      <th></th>\n",
       "      <th></th>\n",
       "      <th></th>\n",
       "      <th></th>\n",
       "      <th></th>\n",
       "      <th></th>\n",
       "    </tr>\n",
       "  </thead>\n",
       "  <tbody>\n",
       "    <tr>\n",
       "      <th>77</th>\n",
       "      <td>88553065</td>\n",
       "      <td>45560607</td>\n",
       "      <td>32362</td>\n",
       "      <td>872</td>\n",
       "      <td>3040.00</td>\n",
       "      <td>100649</td>\n",
       "    </tr>\n",
       "    <tr>\n",
       "      <th>86</th>\n",
       "      <td>134669027</td>\n",
       "      <td>132834079</td>\n",
       "      <td>86923</td>\n",
       "      <td>3066</td>\n",
       "      <td>10635.35</td>\n",
       "      <td>272831</td>\n",
       "    </tr>\n",
       "    <tr>\n",
       "      <th>88</th>\n",
       "      <td>190439625</td>\n",
       "      <td>167279872</td>\n",
       "      <td>100234</td>\n",
       "      <td>3718</td>\n",
       "      <td>16333.25</td>\n",
       "      <td>343413</td>\n",
       "    </tr>\n",
       "  </tbody>\n",
       "</table>\n",
       "</div>"
      ],
      "text/plain": [
       "           LYLTY_CARD_NBR     TXN_ID  PROD_NBR  PROD_QTY  TOT_SALES  PACK_SIZE\n",
       "STORE_NBR                                                                     \n",
       "77               88553065   45560607     32362       872    3040.00     100649\n",
       "86              134669027  132834079     86923      3066   10635.35     272831\n",
       "88              190439625  167279872    100234      3718   16333.25     343413"
      ]
     },
     "metadata": {},
     "execution_count": 5
    }
   ],
   "metadata": {}
  },
  {
   "cell_type": "markdown",
   "source": [
    "## Store 77"
   ],
   "metadata": {}
  },
  {
   "cell_type": "code",
   "execution_count": 7,
   "source": [
    "store77= trail[trail['STORE_NBR'] == 77]\r\n",
    "store77['DATE'] = pd.to_datetime(store77['DATE']) # change DATE datatype to datetime"
   ],
   "outputs": [
    {
     "output_type": "stream",
     "name": "stderr",
     "text": [
      "<ipython-input-7-97a3e28d2d44>:2: SettingWithCopyWarning: \n",
      "A value is trying to be set on a copy of a slice from a DataFrame.\n",
      "Try using .loc[row_indexer,col_indexer] = value instead\n",
      "\n",
      "See the caveats in the documentation: https://pandas.pydata.org/pandas-docs/stable/user_guide/indexing.html#returning-a-view-versus-a-copy\n",
      "  store77['DATE'] = pd.to_datetime(store77['DATE']) # change DATE datatype to datetime\n"
     ]
    }
   ],
   "metadata": {}
  },
  {
   "cell_type": "markdown",
   "source": [
    "### Based on the chart below, the sells boosted from 8/2018 to 8/2019 and then droped from 9/2019. The sales were lower in Nov and March, which could be influenced by seasons. During summer season, the sales is higher than others, but the average sales remained higher than 150. "
   ],
   "metadata": {}
  },
  {
   "cell_type": "code",
   "execution_count": 8,
   "source": [
    "monthly77= store77.groupby(pd.Grouper(key='DATE', freq='1M')).sum()\r\n",
    "# groupby by monthly data \r\n",
    "plt.figure(figsize=(10,4))\r\n",
    "sns.lineplot(x='DATE',y='TOT_SALES',data=monthly77)"
   ],
   "outputs": [
    {
     "output_type": "execute_result",
     "data": {
      "text/plain": [
       "<AxesSubplot:xlabel='DATE', ylabel='TOT_SALES'>"
      ]
     },
     "metadata": {},
     "execution_count": 8
    },
    {
     "output_type": "display_data",
     "data": {
      "image/png": "[encoded data removed]",
      "text/plain": [
       "<Figure size 720x288 with 1 Axes>"
      ]
     },
     "metadata": {
      "needs_background": "light"
     }
    }
   ],
   "metadata": {}
  },
  {
   "cell_type": "code",
   "execution_count": 9,
   "source": [
    "cate77= store77[['BRAND','PACK_SIZE','PREMIUM_CUSTOMER','PROD_QTY']]\r\n",
    "cate77.value_counts()\r\n",
    "# store 77 cateorical data summary"
   ],
   "outputs": [
    {
     "output_type": "execute_result",
     "data": {
      "text/plain": [
       "BRAND       PACK_SIZE  PREMIUM_CUSTOMER  PROD_QTY\n",
       "KETTLE      175        Mainstream        1           11\n",
       "RRD         150        Mainstream        2           10\n",
       "KETTLE      175        Mainstream        2           10\n",
       "PRINGLES    134        Budget            2            9\n",
       "                       Mainstream        2            9\n",
       "                                                     ..\n",
       "COBS        110        Mainstream        2            1\n",
       "                                         4            1\n",
       "                       Premium           1            1\n",
       "RRD         165        Premium           2            1\n",
       "WOOLWORTHS  300        Premium           2            1\n",
       "Length: 189, dtype: int64"
      ]
     },
     "metadata": {},
     "execution_count": 9
    }
   ],
   "metadata": {}
  },
  {
   "cell_type": "markdown",
   "source": [
    "### 175 and 150 package size are the most popula with more mainstream customers. Budeget customers would tend to buy large package "
   ],
   "metadata": {}
  },
  {
   "cell_type": "code",
   "execution_count": 10,
   "source": [
    "plt.figure(figsize=(10,4))\r\n",
    "sns.countplot(x='PACK_SIZE',hue='PREMIUM_CUSTOMER',data=cate77)\r\n",
    "# 1"
   ],
   "outputs": [
    {
     "output_type": "execute_result",
     "data": {
      "text/plain": [
       "<AxesSubplot:xlabel='PACK_SIZE', ylabel='count'>"
      ]
     },
     "metadata": {},
     "execution_count": 10
    },
    {
     "output_type": "display_data",
     "data": {
      "image/png": "[encoded data removed]",
      "text/plain": [
       "<Figure size 720x288 with 1 Axes>"
      ]
     },
     "metadata": {
      "needs_background": "light"
     }
    }
   ],
   "metadata": {}
  },
  {
   "cell_type": "markdown",
   "source": [
    "### SMITHS, KETTLE, RRD, woolworths, doritos and pringles are the most popular brand in store77"
   ],
   "metadata": {}
  },
  {
   "cell_type": "code",
   "execution_count": 11,
   "source": [
    "cate77['BRAND'].value_counts()"
   ],
   "outputs": [
    {
     "output_type": "execute_result",
     "data": {
      "text/plain": [
       "SMITHS        90\n",
       "KETTLE        73\n",
       "RRD           51\n",
       "WOOLWORTHS    49\n",
       "DORITOS       44\n",
       "PRINGLES      41\n",
       "THINS         28\n",
       "NATURAL       25\n",
       "INFUZIONS     20\n",
       "TOSTITOS      19\n",
       "CCS           19\n",
       "GRNWVES       18\n",
       "TWISTIES      13\n",
       "COBS          12\n",
       "OLD           11\n",
       "TYRRELLS      10\n",
       "SUNBITES      10\n",
       "CHEEZELS      10\n",
       "BURGER        10\n",
       "FRENCH         6\n",
       "CHEETOS        4\n",
       "Name: BRAND, dtype: int64"
      ]
     },
     "metadata": {},
     "execution_count": 11
    }
   ],
   "metadata": {}
  },
  {
   "cell_type": "markdown",
   "source": [
    "## Store 86"
   ],
   "metadata": {}
  },
  {
   "cell_type": "code",
   "execution_count": 12,
   "source": [
    "store86 = trail[ trail['STORE_NBR'] == 86]\r\n",
    "store86['DATE'] = pd.to_datetime(store86['DATE']) # change DATE datatype to datetime\r\n",
    "monthly86= store86.groupby(pd.Grouper(key='DATE', freq='1M')).sum()"
   ],
   "outputs": [
    {
     "output_type": "stream",
     "name": "stderr",
     "text": [
      "<ipython-input-12-4c250d8c32cf>:2: SettingWithCopyWarning: \n",
      "A value is trying to be set on a copy of a slice from a DataFrame.\n",
      "Try using .loc[row_indexer,col_indexer] = value instead\n",
      "\n",
      "See the caveats in the documentation: https://pandas.pydata.org/pandas-docs/stable/user_guide/indexing.html#returning-a-view-versus-a-copy\n",
      "  store86['DATE'] = pd.to_datetime(store86['DATE']) # change DATE datatype to datetime\n"
     ]
    }
   ],
   "metadata": {}
  },
  {
   "cell_type": "markdown",
   "source": [
    "### The sells boosted from 7/2018 to 8/2019 and then droped from 9/2019. It seems like the season did not influence too much in store86 since there is no seasonality based on the chart. The average sale is more than 500 and Sep had lower sales in both 2018 and 2019. "
   ],
   "metadata": {}
  },
  {
   "cell_type": "code",
   "execution_count": 13,
   "source": [
    "plt.figure(figsize=(7,4))\r\n",
    "sns.lineplot(x='DATE',y='TOT_SALES',data=monthly86)\r\n"
   ],
   "outputs": [
    {
     "output_type": "execute_result",
     "data": {
      "text/plain": [
       "<AxesSubplot:xlabel='DATE', ylabel='TOT_SALES'>"
      ]
     },
     "metadata": {},
     "execution_count": 13
    },
    {
     "output_type": "display_data",
     "data": {
      "image/png": "[encoded data removed]",
      "text/plain": [
       "<Figure size 504x288 with 1 Axes>"
      ]
     },
     "metadata": {
      "needs_background": "light"
     }
    }
   ],
   "metadata": {}
  },
  {
   "cell_type": "code",
   "execution_count": 14,
   "source": [
    "cate86= store86[['BRAND','PACK_SIZE','PREMIUM_CUSTOMER','PROD_QTY']]\r\n",
    "cate86.value_counts()"
   ],
   "outputs": [
    {
     "output_type": "execute_result",
     "data": {
      "text/plain": [
       "BRAND       PACK_SIZE  PREMIUM_CUSTOMER  PROD_QTY\n",
       "KETTLE      150        Mainstream        2           44\n",
       "PRINGLES    134        Mainstream        2           40\n",
       "RRD         150        Mainstream        2           38\n",
       "            165        Mainstream        2           35\n",
       "NATURAL     175        Mainstream        2           35\n",
       "                                                     ..\n",
       "SMITHS      150        Mainstream        1            1\n",
       "RRD         165        Premium           4            1\n",
       "TYRRELLS    165        Budget            4            1\n",
       "CHEETOS     190        Budget            3            1\n",
       "WOOLWORTHS  300        Premium           5            1\n",
       "Length: 160, dtype: int64"
      ]
     },
     "metadata": {},
     "execution_count": 14
    }
   ],
   "metadata": {}
  },
  {
   "cell_type": "markdown",
   "source": [
    "### 175 and 150 pack size are the most popular. "
   ],
   "metadata": {}
  },
  {
   "cell_type": "code",
   "execution_count": 15,
   "source": [
    "plt.figure(figsize=(10,4))\r\n",
    "sns.countplot(x='PACK_SIZE',hue='PREMIUM_CUSTOMER',data=cate86)"
   ],
   "outputs": [
    {
     "output_type": "execute_result",
     "data": {
      "text/plain": [
       "<AxesSubplot:xlabel='PACK_SIZE', ylabel='count'>"
      ]
     },
     "metadata": {},
     "execution_count": 15
    },
    {
     "output_type": "display_data",
     "data": {
      "image/png": "[encoded data removed]",
      "text/plain": [
       "<Figure size 720x288 with 1 Axes>"
      ]
     },
     "metadata": {
      "needs_background": "light"
     }
    }
   ],
   "metadata": {}
  },
  {
   "cell_type": "markdown",
   "source": [
    "## Store 88"
   ],
   "metadata": {}
  },
  {
   "cell_type": "code",
   "execution_count": 17,
   "source": [
    "store88 = trail[ trail['STORE_NBR'] == 88]\r\n",
    "store88['DATE'] = pd.to_datetime(store88['DATE']) # change DATE datatype to datetime\r\n",
    "monthly88= store88.groupby(pd.Grouper(key='DATE', freq='1M')).sum()"
   ],
   "outputs": [
    {
     "output_type": "stream",
     "name": "stderr",
     "text": [
      "<ipython-input-17-d83890dd0b5e>:2: SettingWithCopyWarning: \n",
      "A value is trying to be set on a copy of a slice from a DataFrame.\n",
      "Try using .loc[row_indexer,col_indexer] = value instead\n",
      "\n",
      "See the caveats in the documentation: https://pandas.pydata.org/pandas-docs/stable/user_guide/indexing.html#returning-a-view-versus-a-copy\n",
      "  store88['DATE'] = pd.to_datetime(store88['DATE']) # change DATE datatype to datetime\n"
     ]
    }
   ],
   "metadata": {}
  },
  {
   "cell_type": "code",
   "execution_count": 18,
   "source": [
    "plt.figure(figsize=(7,4))\r\n",
    "sns.lineplot(x='DATE',y='TOT_SALES',data=monthly88)"
   ],
   "outputs": [
    {
     "output_type": "execute_result",
     "data": {
      "text/plain": [
       "<AxesSubplot:xlabel='DATE', ylabel='TOT_SALES'>"
      ]
     },
     "metadata": {},
     "execution_count": 18
    },
    {
     "output_type": "display_data",
     "data": {
      "image/png": "[encoded data removed]",
      "text/plain": [
       "<Figure size 504x288 with 1 Axes>"
      ]
     },
     "metadata": {
      "needs_background": "light"
     }
    }
   ],
   "metadata": {}
  },
  {
   "cell_type": "markdown",
   "source": [
    "## Summary\r\n",
    "### Trail stores can remain high sell during Aug 2018 to July 2019, comparied with control stores. The average sales of trail stores are higher than conrol store in each month and it seems like trail stores are not affected by hoilday seasons, since there is not seasonality feature based on the line charts. "
   ],
   "metadata": {}
  },
  {
   "cell_type": "markdown",
   "source": [
    "# Control stores analysis"
   ],
   "metadata": {}
  },
  {
   "cell_type": "code",
   "execution_count": 6,
   "source": [
    "controlsales = control.groupby(['STORE_NBR']).sum()\r\n",
    "controlsales"
   ],
   "outputs": [
    {
     "output_type": "execute_result",
     "data": {
      "text/html": [
       "<div>\n",
       "<style scoped>\n",
       "    .dataframe tbody tr th:only-of-type {\n",
       "        vertical-align: middle;\n",
       "    }\n",
       "\n",
       "    .dataframe tbody tr th {\n",
       "        vertical-align: top;\n",
       "    }\n",
       "\n",
       "    .dataframe thead th {\n",
       "        text-align: right;\n",
       "    }\n",
       "</style>\n",
       "<table border=\"1\" class=\"dataframe\">\n",
       "  <thead>\n",
       "    <tr style=\"text-align: right;\">\n",
       "      <th></th>\n",
       "      <th>LYLTY_CARD_NBR</th>\n",
       "      <th>TXN_ID</th>\n",
       "      <th>PROD_NBR</th>\n",
       "      <th>PROD_QTY</th>\n",
       "      <th>TOT_SALES</th>\n",
       "      <th>PACK_SIZE</th>\n",
       "    </tr>\n",
       "    <tr>\n",
       "      <th>STORE_NBR</th>\n",
       "      <th></th>\n",
       "      <th></th>\n",
       "      <th></th>\n",
       "      <th></th>\n",
       "      <th></th>\n",
       "      <th></th>\n",
       "    </tr>\n",
       "  </thead>\n",
       "  <tbody>\n",
       "    <tr>\n",
       "      <th>1</th>\n",
       "      <td>720905</td>\n",
       "      <td>170547</td>\n",
       "      <td>32795</td>\n",
       "      <td>704</td>\n",
       "      <td>2393.60</td>\n",
       "      <td>103525</td>\n",
       "    </tr>\n",
       "    <tr>\n",
       "      <th>2</th>\n",
       "      <td>1135736</td>\n",
       "      <td>428301</td>\n",
       "      <td>28482</td>\n",
       "      <td>564</td>\n",
       "      <td>2005.80</td>\n",
       "      <td>91909</td>\n",
       "    </tr>\n",
       "    <tr>\n",
       "      <th>3</th>\n",
       "      <td>4779490</td>\n",
       "      <td>2814116</td>\n",
       "      <td>82791</td>\n",
       "      <td>2915</td>\n",
       "      <td>12802.45</td>\n",
       "      <td>281769</td>\n",
       "    </tr>\n",
       "    <tr>\n",
       "      <th>4</th>\n",
       "      <td>7025622</td>\n",
       "      <td>5862568</td>\n",
       "      <td>91820</td>\n",
       "      <td>3316</td>\n",
       "      <td>14647.65</td>\n",
       "      <td>312407</td>\n",
       "    </tr>\n",
       "    <tr>\n",
       "      <th>5</th>\n",
       "      <td>6964664</td>\n",
       "      <td>6888021</td>\n",
       "      <td>78636</td>\n",
       "      <td>2704</td>\n",
       "      <td>9500.80</td>\n",
       "      <td>246378</td>\n",
       "    </tr>\n",
       "    <tr>\n",
       "      <th>...</th>\n",
       "      <td>...</td>\n",
       "      <td>...</td>\n",
       "      <td>...</td>\n",
       "      <td>...</td>\n",
       "      <td>...</td>\n",
       "      <td>...</td>\n",
       "    </tr>\n",
       "    <tr>\n",
       "      <th>268</th>\n",
       "      <td>146463848</td>\n",
       "      <td>144511666</td>\n",
       "      <td>30445</td>\n",
       "      <td>732</td>\n",
       "      <td>2601.05</td>\n",
       "      <td>97958</td>\n",
       "    </tr>\n",
       "    <tr>\n",
       "      <th>269</th>\n",
       "      <td>432483003</td>\n",
       "      <td>427086953</td>\n",
       "      <td>93035</td>\n",
       "      <td>3191</td>\n",
       "      <td>11221.80</td>\n",
       "      <td>289450</td>\n",
       "    </tr>\n",
       "    <tr>\n",
       "      <th>270</th>\n",
       "      <td>440291831</td>\n",
       "      <td>435862232</td>\n",
       "      <td>92331</td>\n",
       "      <td>3235</td>\n",
       "      <td>11293.95</td>\n",
       "      <td>299106</td>\n",
       "    </tr>\n",
       "    <tr>\n",
       "      <th>271</th>\n",
       "      <td>375501918</td>\n",
       "      <td>372461878</td>\n",
       "      <td>77986</td>\n",
       "      <td>2740</td>\n",
       "      <td>9721.80</td>\n",
       "      <td>251705</td>\n",
       "    </tr>\n",
       "    <tr>\n",
       "      <th>272</th>\n",
       "      <td>153249277</td>\n",
       "      <td>151965843</td>\n",
       "      <td>30525</td>\n",
       "      <td>1063</td>\n",
       "      <td>4653.95</td>\n",
       "      <td>103006</td>\n",
       "    </tr>\n",
       "  </tbody>\n",
       "</table>\n",
       "<p>269 rows × 6 columns</p>\n",
       "</div>"
      ],
      "text/plain": [
       "           LYLTY_CARD_NBR     TXN_ID  PROD_NBR  PROD_QTY  TOT_SALES  PACK_SIZE\n",
       "STORE_NBR                                                                     \n",
       "1                  720905     170547     32795       704    2393.60     103525\n",
       "2                 1135736     428301     28482       564    2005.80      91909\n",
       "3                 4779490    2814116     82791      2915   12802.45     281769\n",
       "4                 7025622    5862568     91820      3316   14647.65     312407\n",
       "5                 6964664    6888021     78636      2704    9500.80     246378\n",
       "...                   ...        ...       ...       ...        ...        ...\n",
       "268             146463848  144511666     30445       732    2601.05      97958\n",
       "269             432483003  427086953     93035      3191   11221.80     289450\n",
       "270             440291831  435862232     92331      3235   11293.95     299106\n",
       "271             375501918  372461878     77986      2740    9721.80     251705\n",
       "272             153249277  151965843     30525      1063    4653.95     103006\n",
       "\n",
       "[269 rows x 6 columns]"
      ]
     },
     "metadata": {},
     "execution_count": 6
    }
   ],
   "metadata": {}
  },
  {
   "cell_type": "markdown",
   "source": [
    "## Store 1"
   ],
   "metadata": {}
  },
  {
   "cell_type": "code",
   "execution_count": 19,
   "source": [
    "control['DATE'] = pd.to_datetime(control['DATE'])\r\n",
    "store1=control[control['STORE_NBR'] == 1]\r\n",
    "monthly1= store1.groupby(pd.Grouper(key='DATE', freq='1M')).sum()"
   ],
   "outputs": [],
   "metadata": {}
  },
  {
   "cell_type": "markdown",
   "source": [
    "### There is seasonality in control store where summer season has higher sell and winter as well as spring had lower sales. "
   ],
   "metadata": {}
  },
  {
   "cell_type": "code",
   "execution_count": 20,
   "source": [
    "plt.figure(figsize=(7,4))\r\n",
    "sns.lineplot(x='DATE',y='TOT_SALES',data=monthly1)\r\n"
   ],
   "outputs": [
    {
     "output_type": "execute_result",
     "data": {
      "text/plain": [
       "<AxesSubplot:xlabel='DATE', ylabel='TOT_SALES'>"
      ]
     },
     "metadata": {},
     "execution_count": 20
    },
    {
     "output_type": "display_data",
     "data": {
      "image/png": "[encoded data removed]",
      "text/plain": [
       "<Figure size 504x288 with 1 Axes>"
      ]
     },
     "metadata": {
      "needs_background": "light"
     }
    }
   ],
   "metadata": {}
  },
  {
   "cell_type": "code",
   "execution_count": 21,
   "source": [
    "store90=control[control['STORE_NBR'] == 90]\r\n",
    "monthly90= store90.groupby(pd.Grouper(key='DATE', freq='1M')).sum()"
   ],
   "outputs": [],
   "metadata": {}
  },
  {
   "cell_type": "code",
   "execution_count": 22,
   "source": [
    "plt.figure(figsize=(7,4))\r\n",
    "sns.lineplot(x='DATE',y='TOT_SALES',data=monthly90)"
   ],
   "outputs": [
    {
     "output_type": "execute_result",
     "data": {
      "text/plain": [
       "<AxesSubplot:xlabel='DATE', ylabel='TOT_SALES'>"
      ]
     },
     "metadata": {},
     "execution_count": 22
    },
    {
     "output_type": "display_data",
     "data": {
      "image/png": "[encoded data removed]",
      "text/plain": [
       "<Figure size 504x288 with 1 Axes>"
      ]
     },
     "metadata": {
      "needs_background": "light"
     }
    }
   ],
   "metadata": {}
  }
 ],
 "metadata": {
  "orig_nbformat": 4,
  "language_info": {
   "name": "python",
   "version": "3.8.8",
   "mimetype": "text/x-python",
   "codemirror_mode": {
    "name": "ipython",
    "version": 3
   },
   "pygments_lexer": "ipython3",
   "nbconvert_exporter": "python",
   "file_extension": ".py"
  },
  "kernelspec": {
   "name": "python3",
   "display_name": "Python 3.8.8 64-bit ('Data': conda)"
  },
  "interpreter": {
   "hash": "d85ac16fc52f8b9861148d882ab21b8bfaec3d0d00818f31d9044d833043d6b3"
  }
 },
 "nbformat": 4,
 "nbformat_minor": 2
}